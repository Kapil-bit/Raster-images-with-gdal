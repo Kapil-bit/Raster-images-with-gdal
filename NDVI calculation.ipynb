{
  "nbformat": 4,
  "nbformat_minor": 0,
  "metadata": {
    "colab": {
      "name": "Untitled2.ipynb",
      "provenance": [],
      "authorship_tag": "ABX9TyN2WBM1D0dHfq2PbX50gotz",
      "include_colab_link": true
    },
    "kernelspec": {
      "name": "python3",
      "display_name": "Python 3"
    },
    "language_info": {
      "name": "python"
    }
  },
  "cells": [
    {
      "cell_type": "markdown",
      "metadata": {
        "id": "view-in-github",
        "colab_type": "text"
      },
      "source": [
        "<a href=\"https://colab.research.google.com/github/Kapil-bit/Raster-images-with-gdal/blob/main/NDVI%20calculation.ipynb\" target=\"_parent\"><img src=\"https://colab.research.google.com/assets/colab-badge.svg\" alt=\"Open In Colab\"/></a>"
      ]
    },
    {
      "cell_type": "code",
      "execution_count": 1,
      "metadata": {
        "id": "YxYdvUqNugW5"
      },
      "outputs": [],
      "source": [
        "from osgeo import gdal"
      ]
    },
    {
      "cell_type": "code",
      "source": [
        "img=gdal.Open(\"/content/chinnebas1.tif\")\n",
        "red = img.GetRasterBand(4).ReadAsArray()\n",
        "nir = img.GetRasterBand(8).ReadAsArray()\n",
        "ndvi = (nir - red) / (nir + red)\n",
        "print(ndvi)"
      ],
      "metadata": {
        "colab": {
          "base_uri": "https://localhost:8080/"
        },
        "id": "t4RQJdWEuk0J",
        "outputId": "d5221ab4-8052-4d72-a396-f553c39d3606"
      },
      "execution_count": 2,
      "outputs": [
        {
          "output_type": "stream",
          "name": "stdout",
          "text": [
            "[[       nan        nan        nan ... 0.4526987         nan        nan]\n",
            " [       nan        nan        nan ... 0.43168697        nan        nan]\n",
            " [       nan 0.46671227 0.53208494 ... 0.39734963        nan        nan]\n",
            " ...\n",
            " [       nan        nan        nan ... 0.6602646  0.6602271  0.6303715 ]\n",
            " [       nan        nan        nan ...        nan        nan        nan]\n",
            " [       nan        nan        nan ...        nan        nan        nan]]\n"
          ]
        }
      ]
    }
  ]
}