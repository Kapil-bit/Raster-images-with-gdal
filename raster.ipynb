{
  "nbformat": 4,
  "nbformat_minor": 0,
  "metadata": {
    "colab": {
      "name": "Reading and writing raster images",
      "provenance": [],
      "authorship_tag": "ABX9TyOWdpR1399jxAz48Amv8Nls",
      "include_colab_link": true
    },
    "kernelspec": {
      "name": "python3",
      "display_name": "Python 3"
    },
    "language_info": {
      "name": "python"
    }
  },
  "cells": [
    {
      "cell_type": "markdown",
      "metadata": {
        "id": "view-in-github",
        "colab_type": "text"
      },
      "source": [
        "<a href=\"https://colab.research.google.com/github/Kapil-bit/Raster-images-with-gdal/blob/main/raster.ipynb\" target=\"_parent\"><img src=\"https://colab.research.google.com/assets/colab-badge.svg\" alt=\"Open In Colab\"/></a>"
      ]
    },
    {
      "cell_type": "code",
      "execution_count": 2,
      "metadata": {
        "id": "XEgiKJjrylrt"
      },
      "outputs": [],
      "source": [
        "from osgeo import gdal\n",
        "import numpy as np\n",
        "import matplotlib.pyplot as plt"
      ]
    },
    {
      "cell_type": "code",
      "source": [
        "ds = gdal.Open(\"chinnebas_b4.tif\")\n",
        "ds"
      ],
      "metadata": {
        "colab": {
          "base_uri": "https://localhost:8080/"
        },
        "id": "pzeCr3wAyqyO",
        "outputId": "02a3d8fd-1226-414b-c5c0-60f597da9f21"
      },
      "execution_count": 12,
      "outputs": [
        {
          "output_type": "execute_result",
          "data": {
            "text/plain": [
              "<osgeo.gdal.Dataset; proxy of <Swig Object of type 'GDALDatasetShadow *' at 0x7f795f275b40> >"
            ]
          },
          "metadata": {},
          "execution_count": 12
        }
      ]
    },
    {
      "cell_type": "code",
      "source": [
        "#Gives all the info except that of metadata\n",
        "!gdalinfo -nomd chinnebas_b4.tif"
      ],
      "metadata": {
        "id": "LbpJrl6sMU79"
      },
      "execution_count": null,
      "outputs": []
    },
    {
      "cell_type": "code",
      "source": [
        "file_name = r'chinnebas_b4.tif'"
      ],
      "metadata": {
        "id": "3aomo1jeNK5M"
      },
      "execution_count": 9,
      "outputs": []
    },
    {
      "cell_type": "code",
      "source": [
        "print('File list:' , ds.GetFileList())"
      ],
      "metadata": {
        "colab": {
          "base_uri": "https://localhost:8080/"
        },
        "id": "LOdVr8AwNVKt",
        "outputId": "49bd352b-6f47-425f-80f8-53f20e5a0d47"
      },
      "execution_count": 13,
      "outputs": [
        {
          "output_type": "stream",
          "name": "stdout",
          "text": [
            "File list: ['chinnebas_b4.tif']\n"
          ]
        }
      ]
    },
    {
      "cell_type": "code",
      "source": [
        "print('Width:' , ds.RasterXSize)"
      ],
      "metadata": {
        "colab": {
          "base_uri": "https://localhost:8080/"
        },
        "id": "vewgml2kNlCO",
        "outputId": "f8489109-be21-4fef-9ecb-ac5f76bb1a5a"
      },
      "execution_count": 14,
      "outputs": [
        {
          "output_type": "stream",
          "name": "stdout",
          "text": [
            "Width: 105\n"
          ]
        }
      ]
    },
    {
      "cell_type": "code",
      "source": [
        "print('Height:' , ds.RasterYSize)"
      ],
      "metadata": {
        "colab": {
          "base_uri": "https://localhost:8080/"
        },
        "id": "jPCYsRCiN4mG",
        "outputId": "472e5254-f5af-486d-ef11-be5a6baaeb27"
      },
      "execution_count": 15,
      "outputs": [
        {
          "output_type": "stream",
          "name": "stdout",
          "text": [
            "Height: 96\n"
          ]
        }
      ]
    },
    {
      "cell_type": "code",
      "source": [
        "print('Coordinate system:' , ds.GetProjection())"
      ],
      "metadata": {
        "colab": {
          "base_uri": "https://localhost:8080/"
        },
        "id": "hRN8rOGjOBWQ",
        "outputId": "093ce9ff-442c-4d77-cb32-bb43fada47ec"
      },
      "execution_count": 16,
      "outputs": [
        {
          "output_type": "stream",
          "name": "stdout",
          "text": [
            "Coordinate system: PROJCS[\"WGS 84 / UTM zone 44N\",GEOGCS[\"WGS 84\",DATUM[\"WGS_1984\",SPHEROID[\"WGS 84\",6378137,298.257223563,AUTHORITY[\"EPSG\",\"7030\"]],AUTHORITY[\"EPSG\",\"6326\"]],PRIMEM[\"Greenwich\",0,AUTHORITY[\"EPSG\",\"8901\"]],UNIT[\"degree\",0.0174532925199433,AUTHORITY[\"EPSG\",\"9122\"]],AUTHORITY[\"EPSG\",\"4326\"]],PROJECTION[\"Transverse_Mercator\"],PARAMETER[\"latitude_of_origin\",0],PARAMETER[\"central_meridian\",81],PARAMETER[\"scale_factor\",0.9996],PARAMETER[\"false_easting\",500000],PARAMETER[\"false_northing\",0],UNIT[\"metre\",1,AUTHORITY[\"EPSG\",\"9001\"]],AXIS[\"Easting\",EAST],AXIS[\"Northing\",NORTH],AUTHORITY[\"EPSG\",\"32644\"]]\n"
          ]
        }
      ]
    },
    {
      "cell_type": "code",
      "source": [
        "gt = ds.GetGeoTransform()\n",
        "gt"
      ],
      "metadata": {
        "colab": {
          "base_uri": "https://localhost:8080/"
        },
        "id": "MCqIVpLYOMdB",
        "outputId": "24bba7e5-5a5d-4534-b0f4-c2da59a37a91"
      },
      "execution_count": 17,
      "outputs": [
        {
          "output_type": "execute_result",
          "data": {
            "text/plain": [
              "(784570.0, 10.0, 0.0, 3097240.0, 0.0, -10.0)"
            ]
          },
          "metadata": {},
          "execution_count": 17
        }
      ]
    },
    {
      "cell_type": "code",
      "source": [
        "print('Origin:' , (gt[0], gt[3]))\n",
        "print('Pixel Size:' , (gt[1], gt[5]))"
      ],
      "metadata": {
        "colab": {
          "base_uri": "https://localhost:8080/"
        },
        "id": "Hu1_lryvO1IL",
        "outputId": "a8f05307-9fe7-4d70-c7b2-cd1722932cdc"
      },
      "execution_count": 18,
      "outputs": [
        {
          "output_type": "stream",
          "name": "stdout",
          "text": [
            "Origin: (784570.0, 3097240.0)\n",
            "Pixel Size: (10.0, -10.0)\n"
          ]
        }
      ]
    },
    {
      "cell_type": "code",
      "source": [
        "proj = ds.GetProjection()\n",
        "proj"
      ],
      "metadata": {
        "colab": {
          "base_uri": "https://localhost:8080/",
          "height": 157
        },
        "id": "U5XgUG28QEXt",
        "outputId": "7d5fe045-3e8e-475b-acd0-d95092845378"
      },
      "execution_count": 19,
      "outputs": [
        {
          "output_type": "execute_result",
          "data": {
            "text/plain": [
              "'PROJCS[\"WGS 84 / UTM zone 44N\",GEOGCS[\"WGS 84\",DATUM[\"WGS_1984\",SPHEROID[\"WGS 84\",6378137,298.257223563,AUTHORITY[\"EPSG\",\"7030\"]],AUTHORITY[\"EPSG\",\"6326\"]],PRIMEM[\"Greenwich\",0,AUTHORITY[\"EPSG\",\"8901\"]],UNIT[\"degree\",0.0174532925199433,AUTHORITY[\"EPSG\",\"9122\"]],AUTHORITY[\"EPSG\",\"4326\"]],PROJECTION[\"Transverse_Mercator\"],PARAMETER[\"latitude_of_origin\",0],PARAMETER[\"central_meridian\",81],PARAMETER[\"scale_factor\",0.9996],PARAMETER[\"false_easting\",500000],PARAMETER[\"false_northing\",0],UNIT[\"metre\",1,AUTHORITY[\"EPSG\",\"9001\"]],AXIS[\"Easting\",EAST],AXIS[\"Northing\",NORTH],AUTHORITY[\"EPSG\",\"32644\"]]'"
            ],
            "application/vnd.google.colaboratory.intrinsic+json": {
              "type": "string"
            }
          },
          "metadata": {},
          "execution_count": 19
        }
      ]
    },
    {
      "cell_type": "code",
      "source": [
        "print('Upper Left Corner:' , gdal.ApplyGeoTransform(gt,0,0))\n",
        "print('Upper Right Corner:' , gdal.ApplyGeoTransform(gt,ds.RasterXSize,0))\n",
        "print('Lower Left Corner:' , gdal.ApplyGeoTransform(gt,0,ds.RasterYSize))\n",
        "print('Lower Right Corner:' , gdal.ApplyGeoTransform(gt,ds.RasterXSize,ds.RasterYSize))"
      ],
      "metadata": {
        "colab": {
          "base_uri": "https://localhost:8080/"
        },
        "id": "1pbbXIaWQXXd",
        "outputId": "88eb3cdb-a68b-4dca-f861-57eda37b51fa"
      },
      "execution_count": 20,
      "outputs": [
        {
          "output_type": "stream",
          "name": "stdout",
          "text": [
            "Upper Left Corner: [784570.0, 3097240.0]\n",
            "Upper Right Corner: [785620.0, 3097240.0]\n",
            "Lower Left Corner: [784570.0, 3096280.0]\n",
            "Lower Right Corner: [785620.0, 3096280.0]\n"
          ]
        }
      ]
    },
    {
      "cell_type": "code",
      "source": [
        "print('Metadata:' , ds.GetMetadata())"
      ],
      "metadata": {
        "colab": {
          "base_uri": "https://localhost:8080/"
        },
        "id": "2XQ5P3MaRsK0",
        "outputId": "1279a807-d978-452f-8547-03fd265cb16b"
      },
      "execution_count": 21,
      "outputs": [
        {
          "output_type": "stream",
          "name": "stdout",
          "text": [
            "Metadata: {'AREA_OR_POINT': 'Area'}\n"
          ]
        }
      ]
    },
    {
      "cell_type": "code",
      "source": [
        "print('Number of Bands:' , ds.RasterCount)"
      ],
      "metadata": {
        "colab": {
          "base_uri": "https://localhost:8080/"
        },
        "id": "pfufQXkLR2Zh",
        "outputId": "bac76564-dbe1-4aa2-a403-6d45009b9907"
      },
      "execution_count": 22,
      "outputs": [
        {
          "output_type": "stream",
          "name": "stdout",
          "text": [
            "Number of Bands: 1\n"
          ]
        }
      ]
    },
    {
      "cell_type": "code",
      "source": [
        "print('Image Structure Metadata:' , ds.GetMetadata('IMAGE_STRUCTURE'))"
      ],
      "metadata": {
        "colab": {
          "base_uri": "https://localhost:8080/"
        },
        "id": "6W2-gKslSAvf",
        "outputId": "b32b3e72-498e-4b13-b9c7-aa75e9b33962"
      },
      "execution_count": 23,
      "outputs": [
        {
          "output_type": "stream",
          "name": "stdout",
          "text": [
            "Image Structure Metadata: {'COMPRESSION': 'LZW', 'INTERLEAVE': 'BAND'}\n"
          ]
        }
      ]
    },
    {
      "cell_type": "code",
      "source": [
        "!gdalinfo -stats chinnebas_b4.tif"
      ],
      "metadata": {
        "id": "iy452AlCSWI6"
      },
      "execution_count": null,
      "outputs": []
    },
    {
      "cell_type": "code",
      "source": [],
      "metadata": {
        "id": "chwITCSgbPi3"
      },
      "execution_count": null,
      "outputs": []
    }
  ]
}