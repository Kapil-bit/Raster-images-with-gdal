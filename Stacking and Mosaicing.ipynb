{
  "nbformat": 4,
  "nbformat_minor": 0,
  "metadata": {
    "colab": {
      "name": "Untitled1.ipynb",
      "provenance": [],
      "authorship_tag": "ABX9TyObLrd8WxIdjhaLrfvdMQws",
      "include_colab_link": true
    },
    "kernelspec": {
      "name": "python3",
      "display_name": "Python 3"
    },
    "language_info": {
      "name": "python"
    }
  },
  "cells": [
    {
      "cell_type": "markdown",
      "metadata": {
        "id": "view-in-github",
        "colab_type": "text"
      },
      "source": [
        "<a href=\"https://colab.research.google.com/github/Kapil-bit/Raster-images-with-gdal/blob/main/Stacking%20and%20Mosaicing.ipynb\" target=\"_parent\"><img src=\"https://colab.research.google.com/assets/colab-badge.svg\" alt=\"Open In Colab\"/></a>"
      ]
    },
    {
      "cell_type": "code",
      "execution_count": 1,
      "metadata": {
        "id": "WVNxEQjofwVU"
      },
      "outputs": [],
      "source": [
        "from osgeo import gdal\n",
        "from PIL import Image\n",
        "import numpy as np\n",
        "from numpy import asarray\n",
        "import matplotlib.pyplot as plt\n",
        "import os"
      ]
    },
    {
      "cell_type": "code",
      "source": [
        "band2=gdal.Open(\"/content/chinnebas_b2.tif\")\n",
        "band5=gdal.Open(\"/content/chinnebas_b5.tif\")\n",
        "band6=gdal.Open(\"/content/chinnebas_b6.tif\")\n",
        "print(band2)"
      ],
      "metadata": {
        "id": "uAVkkJ1ZggMs"
      },
      "execution_count": null,
      "outputs": []
    },
    {
      "cell_type": "code",
      "source": [
        "print('bands=',band2.RasterCount)\n",
        "print('bands=',band5.RasterCount)\n",
        "print('bands=',band6.RasterCount)"
      ],
      "metadata": {
        "id": "Dk4Ue1dHhAVZ"
      },
      "execution_count": null,
      "outputs": []
    },
    {
      "cell_type": "code",
      "source": [
        "b2=band2.ReadAsArray()\n",
        "b5=band5.ReadAsArray()\n",
        "b6=band6.ReadAsArray()"
      ],
      "metadata": {
        "id": "Y-UC6r22hLPK"
      },
      "execution_count": 29,
      "outputs": []
    },
    {
      "cell_type": "code",
      "source": [
        "plt.imshow(b2)"
      ],
      "metadata": {
        "id": "e6L--uEKhQUi"
      },
      "execution_count": null,
      "outputs": []
    },
    {
      "cell_type": "code",
      "source": [
        "#Stacking the raster images of different bands\n",
        "stack=(b2+b5+b6)\n",
        "plt.imshow(stack)"
      ],
      "metadata": {
        "id": "ojNd9vbLimQs"
      },
      "execution_count": null,
      "outputs": []
    },
    {
      "cell_type": "code",
      "source": [
        "outvrt = '/vsimem/stacked.vrt' \n",
        "outtif = '/content/stacked.tif'\n",
        "tifs = [band2,band5,band6] \n",
        "outds = gdal.BuildVRT(outvrt, tifs, separate=True)\n",
        "outds = gdal.Translate(outtif, outds)"
      ],
      "metadata": {
        "id": "CkV3TYpRjweS"
      },
      "execution_count": 35,
      "outputs": []
    },
    {
      "cell_type": "code",
      "source": [
        "print('Raster band count before stacking=',band2.RasterCount)\n",
        "print('After stacking total band count is=',outds.RasterCount)"
      ],
      "metadata": {
        "id": "aLdHRfqEjzwq"
      },
      "execution_count": null,
      "outputs": []
    },
    {
      "cell_type": "markdown",
      "source": [
        "Mosaicing Images\n"
      ],
      "metadata": {
        "id": "CfflxxdapgIJ"
      }
    },
    {
      "cell_type": "code",
      "source": [
        "import subprocess\n",
        "import glob"
      ],
      "metadata": {
        "id": "EJU6PDEkj38x"
      },
      "execution_count": null,
      "outputs": []
    },
    {
      "cell_type": "code",
      "source": [
        "img1=gdal.Open('/content/chinnebas.tif')\n",
        "img2=gdal.Open('/content/chinnebas1.tif')"
      ],
      "metadata": {
        "id": "w9LKh5klj6Sf"
      },
      "execution_count": 44,
      "outputs": []
    },
    {
      "cell_type": "code",
      "source": [
        "get=img1.GetRasterBand(8)\n",
        "read=get.ReadAsArray()\n",
        "print(read)\n",
        "plt.imshow(read)"
      ],
      "metadata": {
        "id": "Tm6JCcNhj8ZJ"
      },
      "execution_count": null,
      "outputs": []
    },
    {
      "cell_type": "code",
      "source": [
        "tifs = [img1,img2] \n",
        "print(tifs)"
      ],
      "metadata": {
        "id": "8X4UNShNj-nM"
      },
      "execution_count": null,
      "outputs": []
    },
    {
      "cell_type": "code",
      "source": [
        "g = gdal.Warp(\"Merged.tif\", tifs, format=\"GTiff\",\n",
        "              options=[\"COMPRESS=LZW\", \"TILED=YES\"]) # if you want\n",
        "print(g)"
      ],
      "metadata": {
        "id": "lzJfAScHkCLk"
      },
      "execution_count": null,
      "outputs": []
    },
    {
      "cell_type": "code",
      "source": [
        "merge=gdal.Open(\"/content/Merged.tif\")\n",
        "read=merge.GetRasterBand(6)\n",
        "array=read.ReadAsArray()\n",
        "plt.imshow(array)"
      ],
      "metadata": {
        "id": "Hzl5BBF9kC4q"
      },
      "execution_count": null,
      "outputs": []
    }
  ]
}